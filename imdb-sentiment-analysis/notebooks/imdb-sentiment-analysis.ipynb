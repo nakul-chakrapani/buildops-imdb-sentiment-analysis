{
  "cells": [
    {
      "cell_type": "code",
      "execution_count": 1,
      "id": "6e19bde6-93c1-4c86-a97f-6b5f40b4ab8e",
      "metadata": {
        "id": "6e19bde6-93c1-4c86-a97f-6b5f40b4ab8e"
      },
      "outputs": [],
      "source": [
        "%load_ext autoreload\n",
        "%autoreload 2"
      ]
    },
    {
      "cell_type": "code",
      "execution_count": 2,
      "id": "af86f463-b2be-4d35-a9de-17e267a26d8d",
      "metadata": {
        "id": "af86f463-b2be-4d35-a9de-17e267a26d8d"
      },
      "outputs": [],
      "source": [
        "import torch\n",
        "import torch.nn as nn\n",
        "import pandas as pd\n",
        "import numpy as np\n",
        "from datasets import load_dataset, load_from_disk\n",
        "import os\n",
        "import sys\n",
        "import math"
      ]
    },
    {
      "cell_type": "code",
      "source": [
        "from torch.utils.data import Dataset\n",
        "from torch.utils.data import DataLoader\n",
        "\n",
        "class IMDBDataset(Dataset):\n",
        "    def __init__(self, sentences_list, labels_list, tokenizer, max_length=512):\n",
        "        super(IMDBDataset, self).__init__()\n",
        "\n",
        "        self.sentences = sentences_list\n",
        "        self.labels = labels_list\n",
        "        self.tokenizer = tokenizer\n",
        "        self.max_length = max_length\n",
        "\n",
        "    def __len__(self):\n",
        "        return len(self.sentences)\n",
        "\n",
        "    def __getitem__(self, index):\n",
        "        sentence = self.sentences[index]\n",
        "        label = self.labels[index]\n",
        "\n",
        "        encoding = self.tokenizer(sentence,\n",
        "                                 truncation=True,\n",
        "                                 padding='max_length',\n",
        "                                 max_length=self.max_length,\n",
        "                                 return_tensors='pt')\n",
        "\n",
        "        # Calculate the number of tokens in sentence for custom loss\n",
        "        # Reducing it by 2 because first and last tokens are CLS and SEP\n",
        "        num_tokens = (encoding['attention_mask'] == 1).sum() - 2\n",
        "        return {\n",
        "            \"input_ids\": encoding['input_ids'].squeeze(0),\n",
        "            \"attention_mask\": encoding['attention_mask'].squeeze(0),\n",
        "            \"num_tokens\": num_tokens,\n",
        "            \"label\": torch.tensor(label)\n",
        "        }\n",
        "\n",
        "\n",
        "def get_datasets(sentences_list, labels_list, tokenizer, max_length=512):\n",
        "    dataset = IMDBDataset(sentences_list, labels_list, tokenizer, max_length)\n",
        "    return dataset\n",
        "\n",
        "def get_dataloaders(dataset, batch_size, shuffle=True):\n",
        "    return DataLoader(dataset, batch_size=batch_size, shuffle=shuffle)"
      ],
      "metadata": {
        "id": "EqDh8XWCzCZZ"
      },
      "id": "EqDh8XWCzCZZ",
      "execution_count": 3,
      "outputs": []
    },
    {
      "cell_type": "code",
      "execution_count": 4,
      "id": "8c21d102-31d7-476b-ae1a-e61caf8a8505",
      "metadata": {
        "id": "8c21d102-31d7-476b-ae1a-e61caf8a8505"
      },
      "outputs": [],
      "source": [
        "from transformers import DistilBertForSequenceClassification, DistilBertTokenizer\n",
        "\n",
        "model_name = 'distilbert-base-uncased'\n",
        "\n",
        "def get_tokenizer():\n",
        "    print(f'Using model {model_name}')\n",
        "    tokenizer_obj = DistilBertTokenizer.from_pretrained(model_name)\n",
        "    return tokenizer_obj\n",
        "\n",
        "def get_pretrained_model(num_labels):\n",
        "    print(f'Using model {model_name}')\n",
        "    model = DistilBertForSequenceClassification.from_pretrained(model_name, num_labels=num_labels)\n",
        "    return model\n",
        ""
      ]
    },
    {
      "cell_type": "code",
      "execution_count": 5,
      "id": "5b34ba62-6322-4775-b091-c5764fbc5d68",
      "metadata": {
        "id": "5b34ba62-6322-4775-b091-c5764fbc5d68"
      },
      "outputs": [],
      "source": [
        "ds = load_dataset(\"stanfordnlp/imdb\")"
      ]
    },
    {
      "cell_type": "code",
      "execution_count": 6,
      "id": "a611af71-85fe-42e6-9a28-d45b32e89527",
      "metadata": {
        "colab": {
          "base_uri": "https://localhost:8080/"
        },
        "id": "a611af71-85fe-42e6-9a28-d45b32e89527",
        "outputId": "6b372523-1bba-456b-b367-c4f453c17226"
      },
      "outputs": [
        {
          "output_type": "stream",
          "name": "stdout",
          "text": [
            "Running on cuda\n"
          ]
        }
      ],
      "source": [
        "device = torch.device('cuda' if torch.cuda.is_available() else 'cpu')\n",
        "print(\"Running on {}\".format(device))"
      ]
    },
    {
      "cell_type": "markdown",
      "id": "dfdd5cbe-00dd-494f-bc8c-60f3daefa33a",
      "metadata": {
        "id": "dfdd5cbe-00dd-494f-bc8c-60f3daefa33a"
      },
      "source": [
        "### Data Analysis"
      ]
    },
    {
      "cell_type": "code",
      "execution_count": 7,
      "id": "a75d3eae-7749-423e-a900-7ca9d878acad",
      "metadata": {
        "colab": {
          "base_uri": "https://localhost:8080/"
        },
        "id": "a75d3eae-7749-423e-a900-7ca9d878acad",
        "outputId": "7d099286-3dc7-46b7-d26b-48aacd0b3530"
      },
      "outputs": [
        {
          "output_type": "execute_result",
          "data": {
            "text/plain": [
              "dict_keys(['train', 'test', 'unsupervised'])"
            ]
          },
          "metadata": {},
          "execution_count": 7
        }
      ],
      "source": [
        "ds.keys()"
      ]
    },
    {
      "cell_type": "code",
      "execution_count": 8,
      "id": "f17a618e-b3e7-4df5-9281-e74e19d123ff",
      "metadata": {
        "colab": {
          "base_uri": "https://localhost:8080/"
        },
        "id": "f17a618e-b3e7-4df5-9281-e74e19d123ff",
        "outputId": "de94e46b-c744-4625-cbb2-dfae74795ad0"
      },
      "outputs": [
        {
          "output_type": "execute_result",
          "data": {
            "text/plain": [
              "DatasetDict({\n",
              "    train: Dataset({\n",
              "        features: ['text', 'label'],\n",
              "        num_rows: 25000\n",
              "    })\n",
              "    test: Dataset({\n",
              "        features: ['text', 'label'],\n",
              "        num_rows: 25000\n",
              "    })\n",
              "    unsupervised: Dataset({\n",
              "        features: ['text', 'label'],\n",
              "        num_rows: 50000\n",
              "    })\n",
              "})"
            ]
          },
          "metadata": {},
          "execution_count": 8
        }
      ],
      "source": [
        "ds"
      ]
    },
    {
      "cell_type": "code",
      "execution_count": 9,
      "id": "7d1c5486-7d45-48fd-9553-1692946791c6",
      "metadata": {
        "id": "7d1c5486-7d45-48fd-9553-1692946791c6"
      },
      "outputs": [],
      "source": [
        "# huggingface dataset already has train test split of data\n",
        "# train_size, test_size, val_size = 1000, 100, 100\n",
        "train_size, test_size, val_size = 25000, 2500, 100\n",
        "\n",
        "train_df = ds['train'].to_pandas()\n",
        "train_df = train_df.sample(n=train_size)\n",
        "all_test_df = ds['test'].to_pandas()\n",
        "\n",
        "# Create Validation and Test dataframes\n",
        "test_df = all_test_df.sample(n=test_size)\n",
        "val_df = all_test_df.sample(n=val_size)"
      ]
    },
    {
      "cell_type": "code",
      "execution_count": 10,
      "id": "4cd187bc-d505-43e8-8b62-e96e79007c80",
      "metadata": {
        "colab": {
          "base_uri": "https://localhost:8080/"
        },
        "id": "4cd187bc-d505-43e8-8b62-e96e79007c80",
        "outputId": "2bcd553c-a650-4bdd-eda1-4c100af37fee"
      },
      "outputs": [
        {
          "output_type": "execute_result",
          "data": {
            "text/plain": [
              "(25000, 2)"
            ]
          },
          "metadata": {},
          "execution_count": 10
        }
      ],
      "source": [
        "train_df.shape"
      ]
    },
    {
      "cell_type": "code",
      "execution_count": 11,
      "id": "b3d30015-71b6-4350-90fa-c53d482601a1",
      "metadata": {
        "colab": {
          "base_uri": "https://localhost:8080/"
        },
        "id": "b3d30015-71b6-4350-90fa-c53d482601a1",
        "outputId": "521863ef-6a5c-476d-b91c-295ef278a81d"
      },
      "outputs": [
        {
          "output_type": "execute_result",
          "data": {
            "text/plain": [
              "(2500, 2)"
            ]
          },
          "metadata": {},
          "execution_count": 11
        }
      ],
      "source": [
        "test_df.shape"
      ]
    },
    {
      "cell_type": "code",
      "source": [
        "val_df.shape"
      ],
      "metadata": {
        "id": "vItr60KTADhl",
        "outputId": "4a8b0554-62ae-4690-da2f-c1dcefef9f11",
        "colab": {
          "base_uri": "https://localhost:8080/"
        }
      },
      "id": "vItr60KTADhl",
      "execution_count": 12,
      "outputs": [
        {
          "output_type": "execute_result",
          "data": {
            "text/plain": [
              "(100, 2)"
            ]
          },
          "metadata": {},
          "execution_count": 12
        }
      ]
    },
    {
      "cell_type": "code",
      "execution_count": 13,
      "id": "2b362ab8-e0b6-4433-a57c-e39a993656c8",
      "metadata": {
        "colab": {
          "base_uri": "https://localhost:8080/",
          "height": 178
        },
        "id": "2b362ab8-e0b6-4433-a57c-e39a993656c8",
        "outputId": "9b708278-c215-4b1b-f49e-fbabb04f0101"
      },
      "outputs": [
        {
          "output_type": "execute_result",
          "data": {
            "text/plain": [
              "label\n",
              "1    12500\n",
              "0    12500\n",
              "Name: count, dtype: int64"
            ],
            "text/html": [
              "<div>\n",
              "<style scoped>\n",
              "    .dataframe tbody tr th:only-of-type {\n",
              "        vertical-align: middle;\n",
              "    }\n",
              "\n",
              "    .dataframe tbody tr th {\n",
              "        vertical-align: top;\n",
              "    }\n",
              "\n",
              "    .dataframe thead th {\n",
              "        text-align: right;\n",
              "    }\n",
              "</style>\n",
              "<table border=\"1\" class=\"dataframe\">\n",
              "  <thead>\n",
              "    <tr style=\"text-align: right;\">\n",
              "      <th></th>\n",
              "      <th>count</th>\n",
              "    </tr>\n",
              "    <tr>\n",
              "      <th>label</th>\n",
              "      <th></th>\n",
              "    </tr>\n",
              "  </thead>\n",
              "  <tbody>\n",
              "    <tr>\n",
              "      <th>1</th>\n",
              "      <td>12500</td>\n",
              "    </tr>\n",
              "    <tr>\n",
              "      <th>0</th>\n",
              "      <td>12500</td>\n",
              "    </tr>\n",
              "  </tbody>\n",
              "</table>\n",
              "</div><br><label><b>dtype:</b> int64</label>"
            ]
          },
          "metadata": {},
          "execution_count": 13
        }
      ],
      "source": [
        "train_df.label.value_counts()"
      ]
    },
    {
      "cell_type": "code",
      "execution_count": 14,
      "id": "21e60bc6-b204-4874-a21f-4fbb653462e8",
      "metadata": {
        "colab": {
          "base_uri": "https://localhost:8080/",
          "height": 178
        },
        "id": "21e60bc6-b204-4874-a21f-4fbb653462e8",
        "outputId": "8951fe3c-329b-49e1-f3a5-003dea240dc3"
      },
      "outputs": [
        {
          "output_type": "execute_result",
          "data": {
            "text/plain": [
              "label\n",
              "0    1281\n",
              "1    1219\n",
              "Name: count, dtype: int64"
            ],
            "text/html": [
              "<div>\n",
              "<style scoped>\n",
              "    .dataframe tbody tr th:only-of-type {\n",
              "        vertical-align: middle;\n",
              "    }\n",
              "\n",
              "    .dataframe tbody tr th {\n",
              "        vertical-align: top;\n",
              "    }\n",
              "\n",
              "    .dataframe thead th {\n",
              "        text-align: right;\n",
              "    }\n",
              "</style>\n",
              "<table border=\"1\" class=\"dataframe\">\n",
              "  <thead>\n",
              "    <tr style=\"text-align: right;\">\n",
              "      <th></th>\n",
              "      <th>count</th>\n",
              "    </tr>\n",
              "    <tr>\n",
              "      <th>label</th>\n",
              "      <th></th>\n",
              "    </tr>\n",
              "  </thead>\n",
              "  <tbody>\n",
              "    <tr>\n",
              "      <th>0</th>\n",
              "      <td>1281</td>\n",
              "    </tr>\n",
              "    <tr>\n",
              "      <th>1</th>\n",
              "      <td>1219</td>\n",
              "    </tr>\n",
              "  </tbody>\n",
              "</table>\n",
              "</div><br><label><b>dtype:</b> int64</label>"
            ]
          },
          "metadata": {},
          "execution_count": 14
        }
      ],
      "source": [
        "test_df.label.value_counts()"
      ]
    },
    {
      "cell_type": "code",
      "source": [
        "val_df.label.value_counts()"
      ],
      "metadata": {
        "id": "WYsA1mpyAHuE",
        "outputId": "c43513eb-44ed-450b-edb6-739a99cc7f6e",
        "colab": {
          "base_uri": "https://localhost:8080/",
          "height": 178
        }
      },
      "id": "WYsA1mpyAHuE",
      "execution_count": 15,
      "outputs": [
        {
          "output_type": "execute_result",
          "data": {
            "text/plain": [
              "label\n",
              "0    54\n",
              "1    46\n",
              "Name: count, dtype: int64"
            ],
            "text/html": [
              "<div>\n",
              "<style scoped>\n",
              "    .dataframe tbody tr th:only-of-type {\n",
              "        vertical-align: middle;\n",
              "    }\n",
              "\n",
              "    .dataframe tbody tr th {\n",
              "        vertical-align: top;\n",
              "    }\n",
              "\n",
              "    .dataframe thead th {\n",
              "        text-align: right;\n",
              "    }\n",
              "</style>\n",
              "<table border=\"1\" class=\"dataframe\">\n",
              "  <thead>\n",
              "    <tr style=\"text-align: right;\">\n",
              "      <th></th>\n",
              "      <th>count</th>\n",
              "    </tr>\n",
              "    <tr>\n",
              "      <th>label</th>\n",
              "      <th></th>\n",
              "    </tr>\n",
              "  </thead>\n",
              "  <tbody>\n",
              "    <tr>\n",
              "      <th>0</th>\n",
              "      <td>54</td>\n",
              "    </tr>\n",
              "    <tr>\n",
              "      <th>1</th>\n",
              "      <td>46</td>\n",
              "    </tr>\n",
              "  </tbody>\n",
              "</table>\n",
              "</div><br><label><b>dtype:</b> int64</label>"
            ]
          },
          "metadata": {},
          "execution_count": 15
        }
      ]
    },
    {
      "cell_type": "code",
      "execution_count": 16,
      "id": "885bb8cb-8cfd-41c7-95da-743bc58c7ea5",
      "metadata": {
        "id": "885bb8cb-8cfd-41c7-95da-743bc58c7ea5"
      },
      "outputs": [],
      "source": [
        "# Looks like the class distribution is good. No need to balance the dataset"
      ]
    },
    {
      "cell_type": "code",
      "execution_count": 17,
      "id": "5ee36e6e-fc16-442e-8451-89b4ea6f45e3",
      "metadata": {
        "colab": {
          "base_uri": "https://localhost:8080/",
          "height": 206
        },
        "id": "5ee36e6e-fc16-442e-8451-89b4ea6f45e3",
        "outputId": "9cd223f5-cc24-4a12-c16b-22255d29fa07"
      },
      "outputs": [
        {
          "output_type": "execute_result",
          "data": {
            "text/plain": [
              "                                                    text  label\n",
              "15743  My name is John Mourby and this is my story ab...      1\n",
              "14701  Mother Night is one of my favorite novels and ...      1\n",
              "14391  I can remember this movie from when i was a sm...      1\n",
              "1211   She may have an Oscar and a Golden Globe, but ...      0\n",
              "17440  And a rather Unexpected plot line too-for the ...      1"
            ],
            "text/html": [
              "\n",
              "  <div id=\"df-7ae6940b-6dec-4b3f-b102-822904ff49e9\" class=\"colab-df-container\">\n",
              "    <div>\n",
              "<style scoped>\n",
              "    .dataframe tbody tr th:only-of-type {\n",
              "        vertical-align: middle;\n",
              "    }\n",
              "\n",
              "    .dataframe tbody tr th {\n",
              "        vertical-align: top;\n",
              "    }\n",
              "\n",
              "    .dataframe thead th {\n",
              "        text-align: right;\n",
              "    }\n",
              "</style>\n",
              "<table border=\"1\" class=\"dataframe\">\n",
              "  <thead>\n",
              "    <tr style=\"text-align: right;\">\n",
              "      <th></th>\n",
              "      <th>text</th>\n",
              "      <th>label</th>\n",
              "    </tr>\n",
              "  </thead>\n",
              "  <tbody>\n",
              "    <tr>\n",
              "      <th>15743</th>\n",
              "      <td>My name is John Mourby and this is my story ab...</td>\n",
              "      <td>1</td>\n",
              "    </tr>\n",
              "    <tr>\n",
              "      <th>14701</th>\n",
              "      <td>Mother Night is one of my favorite novels and ...</td>\n",
              "      <td>1</td>\n",
              "    </tr>\n",
              "    <tr>\n",
              "      <th>14391</th>\n",
              "      <td>I can remember this movie from when i was a sm...</td>\n",
              "      <td>1</td>\n",
              "    </tr>\n",
              "    <tr>\n",
              "      <th>1211</th>\n",
              "      <td>She may have an Oscar and a Golden Globe, but ...</td>\n",
              "      <td>0</td>\n",
              "    </tr>\n",
              "    <tr>\n",
              "      <th>17440</th>\n",
              "      <td>And a rather Unexpected plot line too-for the ...</td>\n",
              "      <td>1</td>\n",
              "    </tr>\n",
              "  </tbody>\n",
              "</table>\n",
              "</div>\n",
              "    <div class=\"colab-df-buttons\">\n",
              "\n",
              "  <div class=\"colab-df-container\">\n",
              "    <button class=\"colab-df-convert\" onclick=\"convertToInteractive('df-7ae6940b-6dec-4b3f-b102-822904ff49e9')\"\n",
              "            title=\"Convert this dataframe to an interactive table.\"\n",
              "            style=\"display:none;\">\n",
              "\n",
              "  <svg xmlns=\"http://www.w3.org/2000/svg\" height=\"24px\" viewBox=\"0 -960 960 960\">\n",
              "    <path d=\"M120-120v-720h720v720H120Zm60-500h600v-160H180v160Zm220 220h160v-160H400v160Zm0 220h160v-160H400v160ZM180-400h160v-160H180v160Zm440 0h160v-160H620v160ZM180-180h160v-160H180v160Zm440 0h160v-160H620v160Z\"/>\n",
              "  </svg>\n",
              "    </button>\n",
              "\n",
              "  <style>\n",
              "    .colab-df-container {\n",
              "      display:flex;\n",
              "      gap: 12px;\n",
              "    }\n",
              "\n",
              "    .colab-df-convert {\n",
              "      background-color: #E8F0FE;\n",
              "      border: none;\n",
              "      border-radius: 50%;\n",
              "      cursor: pointer;\n",
              "      display: none;\n",
              "      fill: #1967D2;\n",
              "      height: 32px;\n",
              "      padding: 0 0 0 0;\n",
              "      width: 32px;\n",
              "    }\n",
              "\n",
              "    .colab-df-convert:hover {\n",
              "      background-color: #E2EBFA;\n",
              "      box-shadow: 0px 1px 2px rgba(60, 64, 67, 0.3), 0px 1px 3px 1px rgba(60, 64, 67, 0.15);\n",
              "      fill: #174EA6;\n",
              "    }\n",
              "\n",
              "    .colab-df-buttons div {\n",
              "      margin-bottom: 4px;\n",
              "    }\n",
              "\n",
              "    [theme=dark] .colab-df-convert {\n",
              "      background-color: #3B4455;\n",
              "      fill: #D2E3FC;\n",
              "    }\n",
              "\n",
              "    [theme=dark] .colab-df-convert:hover {\n",
              "      background-color: #434B5C;\n",
              "      box-shadow: 0px 1px 3px 1px rgba(0, 0, 0, 0.15);\n",
              "      filter: drop-shadow(0px 1px 2px rgba(0, 0, 0, 0.3));\n",
              "      fill: #FFFFFF;\n",
              "    }\n",
              "  </style>\n",
              "\n",
              "    <script>\n",
              "      const buttonEl =\n",
              "        document.querySelector('#df-7ae6940b-6dec-4b3f-b102-822904ff49e9 button.colab-df-convert');\n",
              "      buttonEl.style.display =\n",
              "        google.colab.kernel.accessAllowed ? 'block' : 'none';\n",
              "\n",
              "      async function convertToInteractive(key) {\n",
              "        const element = document.querySelector('#df-7ae6940b-6dec-4b3f-b102-822904ff49e9');\n",
              "        const dataTable =\n",
              "          await google.colab.kernel.invokeFunction('convertToInteractive',\n",
              "                                                    [key], {});\n",
              "        if (!dataTable) return;\n",
              "\n",
              "        const docLinkHtml = 'Like what you see? Visit the ' +\n",
              "          '<a target=\"_blank\" href=https://colab.research.google.com/notebooks/data_table.ipynb>data table notebook</a>'\n",
              "          + ' to learn more about interactive tables.';\n",
              "        element.innerHTML = '';\n",
              "        dataTable['output_type'] = 'display_data';\n",
              "        await google.colab.output.renderOutput(dataTable, element);\n",
              "        const docLink = document.createElement('div');\n",
              "        docLink.innerHTML = docLinkHtml;\n",
              "        element.appendChild(docLink);\n",
              "      }\n",
              "    </script>\n",
              "  </div>\n",
              "\n",
              "\n",
              "    <div id=\"df-08242abc-2812-4b04-9154-3b8bb48435e1\">\n",
              "      <button class=\"colab-df-quickchart\" onclick=\"quickchart('df-08242abc-2812-4b04-9154-3b8bb48435e1')\"\n",
              "                title=\"Suggest charts\"\n",
              "                style=\"display:none;\">\n",
              "\n",
              "<svg xmlns=\"http://www.w3.org/2000/svg\" height=\"24px\"viewBox=\"0 0 24 24\"\n",
              "     width=\"24px\">\n",
              "    <g>\n",
              "        <path d=\"M19 3H5c-1.1 0-2 .9-2 2v14c0 1.1.9 2 2 2h14c1.1 0 2-.9 2-2V5c0-1.1-.9-2-2-2zM9 17H7v-7h2v7zm4 0h-2V7h2v10zm4 0h-2v-4h2v4z\"/>\n",
              "    </g>\n",
              "</svg>\n",
              "      </button>\n",
              "\n",
              "<style>\n",
              "  .colab-df-quickchart {\n",
              "      --bg-color: #E8F0FE;\n",
              "      --fill-color: #1967D2;\n",
              "      --hover-bg-color: #E2EBFA;\n",
              "      --hover-fill-color: #174EA6;\n",
              "      --disabled-fill-color: #AAA;\n",
              "      --disabled-bg-color: #DDD;\n",
              "  }\n",
              "\n",
              "  [theme=dark] .colab-df-quickchart {\n",
              "      --bg-color: #3B4455;\n",
              "      --fill-color: #D2E3FC;\n",
              "      --hover-bg-color: #434B5C;\n",
              "      --hover-fill-color: #FFFFFF;\n",
              "      --disabled-bg-color: #3B4455;\n",
              "      --disabled-fill-color: #666;\n",
              "  }\n",
              "\n",
              "  .colab-df-quickchart {\n",
              "    background-color: var(--bg-color);\n",
              "    border: none;\n",
              "    border-radius: 50%;\n",
              "    cursor: pointer;\n",
              "    display: none;\n",
              "    fill: var(--fill-color);\n",
              "    height: 32px;\n",
              "    padding: 0;\n",
              "    width: 32px;\n",
              "  }\n",
              "\n",
              "  .colab-df-quickchart:hover {\n",
              "    background-color: var(--hover-bg-color);\n",
              "    box-shadow: 0 1px 2px rgba(60, 64, 67, 0.3), 0 1px 3px 1px rgba(60, 64, 67, 0.15);\n",
              "    fill: var(--button-hover-fill-color);\n",
              "  }\n",
              "\n",
              "  .colab-df-quickchart-complete:disabled,\n",
              "  .colab-df-quickchart-complete:disabled:hover {\n",
              "    background-color: var(--disabled-bg-color);\n",
              "    fill: var(--disabled-fill-color);\n",
              "    box-shadow: none;\n",
              "  }\n",
              "\n",
              "  .colab-df-spinner {\n",
              "    border: 2px solid var(--fill-color);\n",
              "    border-color: transparent;\n",
              "    border-bottom-color: var(--fill-color);\n",
              "    animation:\n",
              "      spin 1s steps(1) infinite;\n",
              "  }\n",
              "\n",
              "  @keyframes spin {\n",
              "    0% {\n",
              "      border-color: transparent;\n",
              "      border-bottom-color: var(--fill-color);\n",
              "      border-left-color: var(--fill-color);\n",
              "    }\n",
              "    20% {\n",
              "      border-color: transparent;\n",
              "      border-left-color: var(--fill-color);\n",
              "      border-top-color: var(--fill-color);\n",
              "    }\n",
              "    30% {\n",
              "      border-color: transparent;\n",
              "      border-left-color: var(--fill-color);\n",
              "      border-top-color: var(--fill-color);\n",
              "      border-right-color: var(--fill-color);\n",
              "    }\n",
              "    40% {\n",
              "      border-color: transparent;\n",
              "      border-right-color: var(--fill-color);\n",
              "      border-top-color: var(--fill-color);\n",
              "    }\n",
              "    60% {\n",
              "      border-color: transparent;\n",
              "      border-right-color: var(--fill-color);\n",
              "    }\n",
              "    80% {\n",
              "      border-color: transparent;\n",
              "      border-right-color: var(--fill-color);\n",
              "      border-bottom-color: var(--fill-color);\n",
              "    }\n",
              "    90% {\n",
              "      border-color: transparent;\n",
              "      border-bottom-color: var(--fill-color);\n",
              "    }\n",
              "  }\n",
              "</style>\n",
              "\n",
              "      <script>\n",
              "        async function quickchart(key) {\n",
              "          const quickchartButtonEl =\n",
              "            document.querySelector('#' + key + ' button');\n",
              "          quickchartButtonEl.disabled = true;  // To prevent multiple clicks.\n",
              "          quickchartButtonEl.classList.add('colab-df-spinner');\n",
              "          try {\n",
              "            const charts = await google.colab.kernel.invokeFunction(\n",
              "                'suggestCharts', [key], {});\n",
              "          } catch (error) {\n",
              "            console.error('Error during call to suggestCharts:', error);\n",
              "          }\n",
              "          quickchartButtonEl.classList.remove('colab-df-spinner');\n",
              "          quickchartButtonEl.classList.add('colab-df-quickchart-complete');\n",
              "        }\n",
              "        (() => {\n",
              "          let quickchartButtonEl =\n",
              "            document.querySelector('#df-08242abc-2812-4b04-9154-3b8bb48435e1 button');\n",
              "          quickchartButtonEl.style.display =\n",
              "            google.colab.kernel.accessAllowed ? 'block' : 'none';\n",
              "        })();\n",
              "      </script>\n",
              "    </div>\n",
              "\n",
              "    </div>\n",
              "  </div>\n"
            ],
            "application/vnd.google.colaboratory.intrinsic+json": {
              "type": "dataframe",
              "variable_name": "train_df",
              "summary": "{\n  \"name\": \"train_df\",\n  \"rows\": 25000,\n  \"fields\": [\n    {\n      \"column\": \"text\",\n      \"properties\": {\n        \"dtype\": \"string\",\n        \"num_unique_values\": 24904,\n        \"samples\": [\n          \"Sure I've seen bad movies in my life, but this one was so bad that I actually became angry in the theater. I wanted my money back. I wrote to the director asking him to refund my movie ticket, of course I didn't receive a refund (or even a reply) but it's the point that matters. On a scale of 1-10 I give this movie a -42. Why did the \\\"Jeep\\\" (Chevy Blazer??) stop running from being hit with a bat? Why did they hit the \\\"Jeep\\\"(Chevy Blazer?????) with the bat in the first place instead of cracking the bum's skull? The plot was thin, the movie filled with obvious clich\\u00e9s, and certain parts of it just didn't make any sense.\",\n          \"PLEASE TAKE A MINUTE TO READ MY ENTIRE REVIEW. I AM NOT KNOCKING THE FILM ITSELF - ONLY THE DVD VERSIONS CURRENTLY AVAILABLE.<br /><br />***<br /><br />I really wanted to give this film even two stars. I mean how could it possibly rank a mere 1 out of 10!?!<br /><br />Here's how: An epic film adaptation of Tolstoy's novel \\\"War and Peace\\\" with historically accurate battle scenes, courtesy of the Red Army, and an extremely faithful, scene-for-scene adaptation of the novel would be difficult but worth sitting through for seven hours - if that's what you were seeing.<br /><br />The trouble is you can't see that film - anywhere as far as I know.<br /><br />I am attempting to watch the RusCiCo DVD version - widely considered the best version available since it's letter boxed and restores the scenes that were cut from other DVD releases. <br /><br />But, it is one of the worst film prints I've ever seen transfered to DVD. The picture is muddy and inconsistent, often strobing. It's almost tolerable if you crank your brightness, color and picture levels up to maximum.... but the problem doesn't end there.<br /><br />The sound is also way inconsistent, blaringly loud in parts, virtually inaudible in others. <br /><br />And as for languages, it's a HUGE problem for English speakers - the dubbed option has some good actors, and some really terrible ones whose performance grates, and parts of the film just aren't dubbed at all, slipping back into Russian and even French randomly.<br /><br />The subtitled option isn't much better. The subtitles don't appear below the image, but right over it - obscuring some of the beauty (or what's left of it) in the scenery. Furthermore, the subtitles are often a poor translation (a shame given that the script took pains to hew so close to Tolstoy's actual words), and the subtitles too seem to just drop out in parts. <br /><br />So, even if you max out the color, brightness and picture settings, and turn the volume way up, and choose subtitled *and* English dubbed, you're still going to get a film that's annoying to watch and listen to.<br /><br />Can it's content overcome that? It might have been able to, but at seven hours - who can stand it for that long?<br /><br />Maybe someday, someone will come along and restore this - and maybe then I will see a masterpiece - but for now, I just can't give more than one star to something I've only been able to stand watching about the first 12% of.\",\n          \"This was a pretty decent movie. This movie is good to just sit down and watch and be entertained. Just a typical Hollywood film. This movie will never win an Oscar or anything and definitely doesn't deserve one, but I thought it was pretty good. It's kind of like the show 24 but set into movie format. If you like the whole we've got to stop the terrorist from killing the president kind of movie then you will enjoy this flick. I personally think that storyline has been done WAY too much, but The Sentinel does add a little twist with the mole in the Secret Service. All in all, this movie won't leave your jaw to the floor or change your life, but who says every single movie has to be like that to be good?\"\n        ],\n        \"semantic_type\": \"\",\n        \"description\": \"\"\n      }\n    },\n    {\n      \"column\": \"label\",\n      \"properties\": {\n        \"dtype\": \"number\",\n        \"std\": 0,\n        \"min\": 0,\n        \"max\": 1,\n        \"num_unique_values\": 2,\n        \"samples\": [\n          0,\n          1\n        ],\n        \"semantic_type\": \"\",\n        \"description\": \"\"\n      }\n    }\n  ]\n}"
            }
          },
          "metadata": {},
          "execution_count": 17
        }
      ],
      "source": [
        "train_df.head()"
      ]
    },
    {
      "cell_type": "code",
      "execution_count": 18,
      "id": "f6fbaf7a-de88-40b6-80eb-51aa83d17422",
      "metadata": {
        "colab": {
          "base_uri": "https://localhost:8080/",
          "height": 206
        },
        "id": "f6fbaf7a-de88-40b6-80eb-51aa83d17422",
        "outputId": "02a2b584-d4ec-402b-a47f-0761e1cef478"
      },
      "outputs": [
        {
          "output_type": "execute_result",
          "data": {
            "text/plain": [
              "                                                    text  label\n",
              "8781   Hollywood had a long love affair with bogus Ar...      0\n",
              "12457  Why do people make bad movies? Didn't anyone w...      0\n",
              "14001  Great little ground-breaking movie (in 1955) a...      1\n",
              "10045  From time to time it's very advisable for the ...      0\n",
              "11409  this show is pretty alright and fun to watch, ...      0"
            ],
            "text/html": [
              "\n",
              "  <div id=\"df-e0c83bc8-d914-4948-87de-853f9e7f7cfd\" class=\"colab-df-container\">\n",
              "    <div>\n",
              "<style scoped>\n",
              "    .dataframe tbody tr th:only-of-type {\n",
              "        vertical-align: middle;\n",
              "    }\n",
              "\n",
              "    .dataframe tbody tr th {\n",
              "        vertical-align: top;\n",
              "    }\n",
              "\n",
              "    .dataframe thead th {\n",
              "        text-align: right;\n",
              "    }\n",
              "</style>\n",
              "<table border=\"1\" class=\"dataframe\">\n",
              "  <thead>\n",
              "    <tr style=\"text-align: right;\">\n",
              "      <th></th>\n",
              "      <th>text</th>\n",
              "      <th>label</th>\n",
              "    </tr>\n",
              "  </thead>\n",
              "  <tbody>\n",
              "    <tr>\n",
              "      <th>8781</th>\n",
              "      <td>Hollywood had a long love affair with bogus Ar...</td>\n",
              "      <td>0</td>\n",
              "    </tr>\n",
              "    <tr>\n",
              "      <th>12457</th>\n",
              "      <td>Why do people make bad movies? Didn't anyone w...</td>\n",
              "      <td>0</td>\n",
              "    </tr>\n",
              "    <tr>\n",
              "      <th>14001</th>\n",
              "      <td>Great little ground-breaking movie (in 1955) a...</td>\n",
              "      <td>1</td>\n",
              "    </tr>\n",
              "    <tr>\n",
              "      <th>10045</th>\n",
              "      <td>From time to time it's very advisable for the ...</td>\n",
              "      <td>0</td>\n",
              "    </tr>\n",
              "    <tr>\n",
              "      <th>11409</th>\n",
              "      <td>this show is pretty alright and fun to watch, ...</td>\n",
              "      <td>0</td>\n",
              "    </tr>\n",
              "  </tbody>\n",
              "</table>\n",
              "</div>\n",
              "    <div class=\"colab-df-buttons\">\n",
              "\n",
              "  <div class=\"colab-df-container\">\n",
              "    <button class=\"colab-df-convert\" onclick=\"convertToInteractive('df-e0c83bc8-d914-4948-87de-853f9e7f7cfd')\"\n",
              "            title=\"Convert this dataframe to an interactive table.\"\n",
              "            style=\"display:none;\">\n",
              "\n",
              "  <svg xmlns=\"http://www.w3.org/2000/svg\" height=\"24px\" viewBox=\"0 -960 960 960\">\n",
              "    <path d=\"M120-120v-720h720v720H120Zm60-500h600v-160H180v160Zm220 220h160v-160H400v160Zm0 220h160v-160H400v160ZM180-400h160v-160H180v160Zm440 0h160v-160H620v160ZM180-180h160v-160H180v160Zm440 0h160v-160H620v160Z\"/>\n",
              "  </svg>\n",
              "    </button>\n",
              "\n",
              "  <style>\n",
              "    .colab-df-container {\n",
              "      display:flex;\n",
              "      gap: 12px;\n",
              "    }\n",
              "\n",
              "    .colab-df-convert {\n",
              "      background-color: #E8F0FE;\n",
              "      border: none;\n",
              "      border-radius: 50%;\n",
              "      cursor: pointer;\n",
              "      display: none;\n",
              "      fill: #1967D2;\n",
              "      height: 32px;\n",
              "      padding: 0 0 0 0;\n",
              "      width: 32px;\n",
              "    }\n",
              "\n",
              "    .colab-df-convert:hover {\n",
              "      background-color: #E2EBFA;\n",
              "      box-shadow: 0px 1px 2px rgba(60, 64, 67, 0.3), 0px 1px 3px 1px rgba(60, 64, 67, 0.15);\n",
              "      fill: #174EA6;\n",
              "    }\n",
              "\n",
              "    .colab-df-buttons div {\n",
              "      margin-bottom: 4px;\n",
              "    }\n",
              "\n",
              "    [theme=dark] .colab-df-convert {\n",
              "      background-color: #3B4455;\n",
              "      fill: #D2E3FC;\n",
              "    }\n",
              "\n",
              "    [theme=dark] .colab-df-convert:hover {\n",
              "      background-color: #434B5C;\n",
              "      box-shadow: 0px 1px 3px 1px rgba(0, 0, 0, 0.15);\n",
              "      filter: drop-shadow(0px 1px 2px rgba(0, 0, 0, 0.3));\n",
              "      fill: #FFFFFF;\n",
              "    }\n",
              "  </style>\n",
              "\n",
              "    <script>\n",
              "      const buttonEl =\n",
              "        document.querySelector('#df-e0c83bc8-d914-4948-87de-853f9e7f7cfd button.colab-df-convert');\n",
              "      buttonEl.style.display =\n",
              "        google.colab.kernel.accessAllowed ? 'block' : 'none';\n",
              "\n",
              "      async function convertToInteractive(key) {\n",
              "        const element = document.querySelector('#df-e0c83bc8-d914-4948-87de-853f9e7f7cfd');\n",
              "        const dataTable =\n",
              "          await google.colab.kernel.invokeFunction('convertToInteractive',\n",
              "                                                    [key], {});\n",
              "        if (!dataTable) return;\n",
              "\n",
              "        const docLinkHtml = 'Like what you see? Visit the ' +\n",
              "          '<a target=\"_blank\" href=https://colab.research.google.com/notebooks/data_table.ipynb>data table notebook</a>'\n",
              "          + ' to learn more about interactive tables.';\n",
              "        element.innerHTML = '';\n",
              "        dataTable['output_type'] = 'display_data';\n",
              "        await google.colab.output.renderOutput(dataTable, element);\n",
              "        const docLink = document.createElement('div');\n",
              "        docLink.innerHTML = docLinkHtml;\n",
              "        element.appendChild(docLink);\n",
              "      }\n",
              "    </script>\n",
              "  </div>\n",
              "\n",
              "\n",
              "    <div id=\"df-57c5a6ac-a371-4448-8cf1-20f3c5b70a9d\">\n",
              "      <button class=\"colab-df-quickchart\" onclick=\"quickchart('df-57c5a6ac-a371-4448-8cf1-20f3c5b70a9d')\"\n",
              "                title=\"Suggest charts\"\n",
              "                style=\"display:none;\">\n",
              "\n",
              "<svg xmlns=\"http://www.w3.org/2000/svg\" height=\"24px\"viewBox=\"0 0 24 24\"\n",
              "     width=\"24px\">\n",
              "    <g>\n",
              "        <path d=\"M19 3H5c-1.1 0-2 .9-2 2v14c0 1.1.9 2 2 2h14c1.1 0 2-.9 2-2V5c0-1.1-.9-2-2-2zM9 17H7v-7h2v7zm4 0h-2V7h2v10zm4 0h-2v-4h2v4z\"/>\n",
              "    </g>\n",
              "</svg>\n",
              "      </button>\n",
              "\n",
              "<style>\n",
              "  .colab-df-quickchart {\n",
              "      --bg-color: #E8F0FE;\n",
              "      --fill-color: #1967D2;\n",
              "      --hover-bg-color: #E2EBFA;\n",
              "      --hover-fill-color: #174EA6;\n",
              "      --disabled-fill-color: #AAA;\n",
              "      --disabled-bg-color: #DDD;\n",
              "  }\n",
              "\n",
              "  [theme=dark] .colab-df-quickchart {\n",
              "      --bg-color: #3B4455;\n",
              "      --fill-color: #D2E3FC;\n",
              "      --hover-bg-color: #434B5C;\n",
              "      --hover-fill-color: #FFFFFF;\n",
              "      --disabled-bg-color: #3B4455;\n",
              "      --disabled-fill-color: #666;\n",
              "  }\n",
              "\n",
              "  .colab-df-quickchart {\n",
              "    background-color: var(--bg-color);\n",
              "    border: none;\n",
              "    border-radius: 50%;\n",
              "    cursor: pointer;\n",
              "    display: none;\n",
              "    fill: var(--fill-color);\n",
              "    height: 32px;\n",
              "    padding: 0;\n",
              "    width: 32px;\n",
              "  }\n",
              "\n",
              "  .colab-df-quickchart:hover {\n",
              "    background-color: var(--hover-bg-color);\n",
              "    box-shadow: 0 1px 2px rgba(60, 64, 67, 0.3), 0 1px 3px 1px rgba(60, 64, 67, 0.15);\n",
              "    fill: var(--button-hover-fill-color);\n",
              "  }\n",
              "\n",
              "  .colab-df-quickchart-complete:disabled,\n",
              "  .colab-df-quickchart-complete:disabled:hover {\n",
              "    background-color: var(--disabled-bg-color);\n",
              "    fill: var(--disabled-fill-color);\n",
              "    box-shadow: none;\n",
              "  }\n",
              "\n",
              "  .colab-df-spinner {\n",
              "    border: 2px solid var(--fill-color);\n",
              "    border-color: transparent;\n",
              "    border-bottom-color: var(--fill-color);\n",
              "    animation:\n",
              "      spin 1s steps(1) infinite;\n",
              "  }\n",
              "\n",
              "  @keyframes spin {\n",
              "    0% {\n",
              "      border-color: transparent;\n",
              "      border-bottom-color: var(--fill-color);\n",
              "      border-left-color: var(--fill-color);\n",
              "    }\n",
              "    20% {\n",
              "      border-color: transparent;\n",
              "      border-left-color: var(--fill-color);\n",
              "      border-top-color: var(--fill-color);\n",
              "    }\n",
              "    30% {\n",
              "      border-color: transparent;\n",
              "      border-left-color: var(--fill-color);\n",
              "      border-top-color: var(--fill-color);\n",
              "      border-right-color: var(--fill-color);\n",
              "    }\n",
              "    40% {\n",
              "      border-color: transparent;\n",
              "      border-right-color: var(--fill-color);\n",
              "      border-top-color: var(--fill-color);\n",
              "    }\n",
              "    60% {\n",
              "      border-color: transparent;\n",
              "      border-right-color: var(--fill-color);\n",
              "    }\n",
              "    80% {\n",
              "      border-color: transparent;\n",
              "      border-right-color: var(--fill-color);\n",
              "      border-bottom-color: var(--fill-color);\n",
              "    }\n",
              "    90% {\n",
              "      border-color: transparent;\n",
              "      border-bottom-color: var(--fill-color);\n",
              "    }\n",
              "  }\n",
              "</style>\n",
              "\n",
              "      <script>\n",
              "        async function quickchart(key) {\n",
              "          const quickchartButtonEl =\n",
              "            document.querySelector('#' + key + ' button');\n",
              "          quickchartButtonEl.disabled = true;  // To prevent multiple clicks.\n",
              "          quickchartButtonEl.classList.add('colab-df-spinner');\n",
              "          try {\n",
              "            const charts = await google.colab.kernel.invokeFunction(\n",
              "                'suggestCharts', [key], {});\n",
              "          } catch (error) {\n",
              "            console.error('Error during call to suggestCharts:', error);\n",
              "          }\n",
              "          quickchartButtonEl.classList.remove('colab-df-spinner');\n",
              "          quickchartButtonEl.classList.add('colab-df-quickchart-complete');\n",
              "        }\n",
              "        (() => {\n",
              "          let quickchartButtonEl =\n",
              "            document.querySelector('#df-57c5a6ac-a371-4448-8cf1-20f3c5b70a9d button');\n",
              "          quickchartButtonEl.style.display =\n",
              "            google.colab.kernel.accessAllowed ? 'block' : 'none';\n",
              "        })();\n",
              "      </script>\n",
              "    </div>\n",
              "\n",
              "    </div>\n",
              "  </div>\n"
            ],
            "application/vnd.google.colaboratory.intrinsic+json": {
              "type": "dataframe",
              "variable_name": "test_df",
              "summary": "{\n  \"name\": \"test_df\",\n  \"rows\": 2500,\n  \"fields\": [\n    {\n      \"column\": \"text\",\n      \"properties\": {\n        \"dtype\": \"string\",\n        \"num_unique_values\": 2498,\n        \"samples\": [\n          \"When i watched this movie i had no idea what it was about, and i had never heard of it before. But i must say i was positively surprised. The first few minutes are almost the most funny of the whole movie. The store clerk from India is just too funny! Anyways, the story isn\\u00b4t really too much to talk about, but i think it\\u00b4s ok. The acting on the other hand is quite good, and still the only actor i recognized was Mickey Rourke who wasn\\u00b4t really in the movie until the ending. And the ending is where the turn-off is i think, it\\u00b4s not bad but i don\\u00b4t feel like it really ends. I feel like there should have been something more. A final battle in some way. I don\\u00b4t know. All in all, this was a good movie and i recommend it to anyone into Tarantino-type movies with loads of violence and dark, sinister humor! I rate it 7/10.\",\n          \"Chaplin was great a silent comedian, but many silent era stars fell when the public heard their voices in the first talkies. In my opinion, Chaplin's voice simply did not fit his silent characters that made him rich and famous. His career never recovered when sound came to film. Contrary to most of the reviews I have read, Chaplin's lifestyle and politics did not help his popularity with the average viewer who expected to be entertained by Chaplin the comedian, and not spend their entertainment dollar watching Chaplin's political commentary.<br /><br />Despite Chaplin's awards and knighthood, I would take exception to his \\\"contributions\\\" to humanity. The Great Dictator was made at the same time Stalin's brutal dictatorship was having it's show trials, and both Dictators signed the agreement that lead to invasion of Poland by both Dictators. WWII started in an attempt to save Poland. The Nazi's were defeated in 6 years, but Poland disappeared as a sovereign country. This happened during the time this film was made and the investigations of Hollywood by the Federal government. Had Chaplin included Joe Stalin in this satire,in addition to including the Italian dictator, perhaps he would have had less criticism about his politics by the politicians. The Soviet's mistreatment of Jews and dissidents exceeded the Nazi's in time and numbers.<br /><br />Judged simply as a film, many of the gags were too topical to be understood by younger viewers, who wouldn't know who Goebbels, Goring or Mussolini were. A classic piece of art must stand the test of time. Classic Greek Tragedy, the Mona Lisa and Beethoven's 9th are still enjoyed centuries after their creation because they are timeless. Films which rely on topical political commentary or currently popular social views usually do not outlast the generation in which they are made. But those that address issues that are common to all generations will probably live forever and receive a high rating from me.<br /><br />Chaplin, as the writer, director and lead actor must take the blame for what I judge as a dated and tiresome film.<br /><br />Chaplin's apologists have excused his decision to leave the country that made him rich and famous. If Chaplin found the US so offensive, why didn't he return to his native land. Great Britian fought the Nazi'with blood and money. What did Switzerland contribute in the fight against the European dictators? Switzerland is like a country club that picks and chooses its members based on race and class, and cares little about people who can't join the club.\",\n          \"I saw this one on the late, late, late, late show back when MST3K was just a twinkle in Joel Hodgson's eye. I had the privilege of seeing it without knowing exactly how bad it would be. I didn't know that a woman with an arrow in her chest could run \\\"to the ends of the earth\\\" in about an hour and a half (thank God her father gave such specific directions) and then take days to make it back to the castle with help. I didn't know that a sword wielding barbarian-type could run into the forest and create a hanglider and flash powder bombs in under 30 seconds. I had no idea how disjointed a movie could be.<br /><br />It's a bad thing children, a very bad thing. If you enjoy bad movies, go for it.\"\n        ],\n        \"semantic_type\": \"\",\n        \"description\": \"\"\n      }\n    },\n    {\n      \"column\": \"label\",\n      \"properties\": {\n        \"dtype\": \"number\",\n        \"std\": 0,\n        \"min\": 0,\n        \"max\": 1,\n        \"num_unique_values\": 2,\n        \"samples\": [\n          1,\n          0\n        ],\n        \"semantic_type\": \"\",\n        \"description\": \"\"\n      }\n    }\n  ]\n}"
            }
          },
          "metadata": {},
          "execution_count": 18
        }
      ],
      "source": [
        "test_df.head()"
      ]
    },
    {
      "cell_type": "code",
      "source": [
        "val_df.head()"
      ],
      "metadata": {
        "id": "hXIYy7NAANFF",
        "outputId": "507e818a-7e1c-4401-8c00-8bbe226b6c95",
        "colab": {
          "base_uri": "https://localhost:8080/",
          "height": 206
        }
      },
      "id": "hXIYy7NAANFF",
      "execution_count": 19,
      "outputs": [
        {
          "output_type": "execute_result",
          "data": {
            "text/plain": [
              "                                                    text  label\n",
              "8213   This movie clearly has an agenda, which could ...      0\n",
              "1813   A very carelessly written film. Poor character...      0\n",
              "13047  Jim Henson's The Muppet Movie is a charming, f...      1\n",
              "18919  I'm not a fan of scratching, but I really dug ...      1\n",
              "21432  John Carpenter shows how much he loves the 195...      1"
            ],
            "text/html": [
              "\n",
              "  <div id=\"df-59d1a414-8fca-4092-9f41-527cd592314c\" class=\"colab-df-container\">\n",
              "    <div>\n",
              "<style scoped>\n",
              "    .dataframe tbody tr th:only-of-type {\n",
              "        vertical-align: middle;\n",
              "    }\n",
              "\n",
              "    .dataframe tbody tr th {\n",
              "        vertical-align: top;\n",
              "    }\n",
              "\n",
              "    .dataframe thead th {\n",
              "        text-align: right;\n",
              "    }\n",
              "</style>\n",
              "<table border=\"1\" class=\"dataframe\">\n",
              "  <thead>\n",
              "    <tr style=\"text-align: right;\">\n",
              "      <th></th>\n",
              "      <th>text</th>\n",
              "      <th>label</th>\n",
              "    </tr>\n",
              "  </thead>\n",
              "  <tbody>\n",
              "    <tr>\n",
              "      <th>8213</th>\n",
              "      <td>This movie clearly has an agenda, which could ...</td>\n",
              "      <td>0</td>\n",
              "    </tr>\n",
              "    <tr>\n",
              "      <th>1813</th>\n",
              "      <td>A very carelessly written film. Poor character...</td>\n",
              "      <td>0</td>\n",
              "    </tr>\n",
              "    <tr>\n",
              "      <th>13047</th>\n",
              "      <td>Jim Henson's The Muppet Movie is a charming, f...</td>\n",
              "      <td>1</td>\n",
              "    </tr>\n",
              "    <tr>\n",
              "      <th>18919</th>\n",
              "      <td>I'm not a fan of scratching, but I really dug ...</td>\n",
              "      <td>1</td>\n",
              "    </tr>\n",
              "    <tr>\n",
              "      <th>21432</th>\n",
              "      <td>John Carpenter shows how much he loves the 195...</td>\n",
              "      <td>1</td>\n",
              "    </tr>\n",
              "  </tbody>\n",
              "</table>\n",
              "</div>\n",
              "    <div class=\"colab-df-buttons\">\n",
              "\n",
              "  <div class=\"colab-df-container\">\n",
              "    <button class=\"colab-df-convert\" onclick=\"convertToInteractive('df-59d1a414-8fca-4092-9f41-527cd592314c')\"\n",
              "            title=\"Convert this dataframe to an interactive table.\"\n",
              "            style=\"display:none;\">\n",
              "\n",
              "  <svg xmlns=\"http://www.w3.org/2000/svg\" height=\"24px\" viewBox=\"0 -960 960 960\">\n",
              "    <path d=\"M120-120v-720h720v720H120Zm60-500h600v-160H180v160Zm220 220h160v-160H400v160Zm0 220h160v-160H400v160ZM180-400h160v-160H180v160Zm440 0h160v-160H620v160ZM180-180h160v-160H180v160Zm440 0h160v-160H620v160Z\"/>\n",
              "  </svg>\n",
              "    </button>\n",
              "\n",
              "  <style>\n",
              "    .colab-df-container {\n",
              "      display:flex;\n",
              "      gap: 12px;\n",
              "    }\n",
              "\n",
              "    .colab-df-convert {\n",
              "      background-color: #E8F0FE;\n",
              "      border: none;\n",
              "      border-radius: 50%;\n",
              "      cursor: pointer;\n",
              "      display: none;\n",
              "      fill: #1967D2;\n",
              "      height: 32px;\n",
              "      padding: 0 0 0 0;\n",
              "      width: 32px;\n",
              "    }\n",
              "\n",
              "    .colab-df-convert:hover {\n",
              "      background-color: #E2EBFA;\n",
              "      box-shadow: 0px 1px 2px rgba(60, 64, 67, 0.3), 0px 1px 3px 1px rgba(60, 64, 67, 0.15);\n",
              "      fill: #174EA6;\n",
              "    }\n",
              "\n",
              "    .colab-df-buttons div {\n",
              "      margin-bottom: 4px;\n",
              "    }\n",
              "\n",
              "    [theme=dark] .colab-df-convert {\n",
              "      background-color: #3B4455;\n",
              "      fill: #D2E3FC;\n",
              "    }\n",
              "\n",
              "    [theme=dark] .colab-df-convert:hover {\n",
              "      background-color: #434B5C;\n",
              "      box-shadow: 0px 1px 3px 1px rgba(0, 0, 0, 0.15);\n",
              "      filter: drop-shadow(0px 1px 2px rgba(0, 0, 0, 0.3));\n",
              "      fill: #FFFFFF;\n",
              "    }\n",
              "  </style>\n",
              "\n",
              "    <script>\n",
              "      const buttonEl =\n",
              "        document.querySelector('#df-59d1a414-8fca-4092-9f41-527cd592314c button.colab-df-convert');\n",
              "      buttonEl.style.display =\n",
              "        google.colab.kernel.accessAllowed ? 'block' : 'none';\n",
              "\n",
              "      async function convertToInteractive(key) {\n",
              "        const element = document.querySelector('#df-59d1a414-8fca-4092-9f41-527cd592314c');\n",
              "        const dataTable =\n",
              "          await google.colab.kernel.invokeFunction('convertToInteractive',\n",
              "                                                    [key], {});\n",
              "        if (!dataTable) return;\n",
              "\n",
              "        const docLinkHtml = 'Like what you see? Visit the ' +\n",
              "          '<a target=\"_blank\" href=https://colab.research.google.com/notebooks/data_table.ipynb>data table notebook</a>'\n",
              "          + ' to learn more about interactive tables.';\n",
              "        element.innerHTML = '';\n",
              "        dataTable['output_type'] = 'display_data';\n",
              "        await google.colab.output.renderOutput(dataTable, element);\n",
              "        const docLink = document.createElement('div');\n",
              "        docLink.innerHTML = docLinkHtml;\n",
              "        element.appendChild(docLink);\n",
              "      }\n",
              "    </script>\n",
              "  </div>\n",
              "\n",
              "\n",
              "    <div id=\"df-425c0511-11f2-4791-912e-86929c47804a\">\n",
              "      <button class=\"colab-df-quickchart\" onclick=\"quickchart('df-425c0511-11f2-4791-912e-86929c47804a')\"\n",
              "                title=\"Suggest charts\"\n",
              "                style=\"display:none;\">\n",
              "\n",
              "<svg xmlns=\"http://www.w3.org/2000/svg\" height=\"24px\"viewBox=\"0 0 24 24\"\n",
              "     width=\"24px\">\n",
              "    <g>\n",
              "        <path d=\"M19 3H5c-1.1 0-2 .9-2 2v14c0 1.1.9 2 2 2h14c1.1 0 2-.9 2-2V5c0-1.1-.9-2-2-2zM9 17H7v-7h2v7zm4 0h-2V7h2v10zm4 0h-2v-4h2v4z\"/>\n",
              "    </g>\n",
              "</svg>\n",
              "      </button>\n",
              "\n",
              "<style>\n",
              "  .colab-df-quickchart {\n",
              "      --bg-color: #E8F0FE;\n",
              "      --fill-color: #1967D2;\n",
              "      --hover-bg-color: #E2EBFA;\n",
              "      --hover-fill-color: #174EA6;\n",
              "      --disabled-fill-color: #AAA;\n",
              "      --disabled-bg-color: #DDD;\n",
              "  }\n",
              "\n",
              "  [theme=dark] .colab-df-quickchart {\n",
              "      --bg-color: #3B4455;\n",
              "      --fill-color: #D2E3FC;\n",
              "      --hover-bg-color: #434B5C;\n",
              "      --hover-fill-color: #FFFFFF;\n",
              "      --disabled-bg-color: #3B4455;\n",
              "      --disabled-fill-color: #666;\n",
              "  }\n",
              "\n",
              "  .colab-df-quickchart {\n",
              "    background-color: var(--bg-color);\n",
              "    border: none;\n",
              "    border-radius: 50%;\n",
              "    cursor: pointer;\n",
              "    display: none;\n",
              "    fill: var(--fill-color);\n",
              "    height: 32px;\n",
              "    padding: 0;\n",
              "    width: 32px;\n",
              "  }\n",
              "\n",
              "  .colab-df-quickchart:hover {\n",
              "    background-color: var(--hover-bg-color);\n",
              "    box-shadow: 0 1px 2px rgba(60, 64, 67, 0.3), 0 1px 3px 1px rgba(60, 64, 67, 0.15);\n",
              "    fill: var(--button-hover-fill-color);\n",
              "  }\n",
              "\n",
              "  .colab-df-quickchart-complete:disabled,\n",
              "  .colab-df-quickchart-complete:disabled:hover {\n",
              "    background-color: var(--disabled-bg-color);\n",
              "    fill: var(--disabled-fill-color);\n",
              "    box-shadow: none;\n",
              "  }\n",
              "\n",
              "  .colab-df-spinner {\n",
              "    border: 2px solid var(--fill-color);\n",
              "    border-color: transparent;\n",
              "    border-bottom-color: var(--fill-color);\n",
              "    animation:\n",
              "      spin 1s steps(1) infinite;\n",
              "  }\n",
              "\n",
              "  @keyframes spin {\n",
              "    0% {\n",
              "      border-color: transparent;\n",
              "      border-bottom-color: var(--fill-color);\n",
              "      border-left-color: var(--fill-color);\n",
              "    }\n",
              "    20% {\n",
              "      border-color: transparent;\n",
              "      border-left-color: var(--fill-color);\n",
              "      border-top-color: var(--fill-color);\n",
              "    }\n",
              "    30% {\n",
              "      border-color: transparent;\n",
              "      border-left-color: var(--fill-color);\n",
              "      border-top-color: var(--fill-color);\n",
              "      border-right-color: var(--fill-color);\n",
              "    }\n",
              "    40% {\n",
              "      border-color: transparent;\n",
              "      border-right-color: var(--fill-color);\n",
              "      border-top-color: var(--fill-color);\n",
              "    }\n",
              "    60% {\n",
              "      border-color: transparent;\n",
              "      border-right-color: var(--fill-color);\n",
              "    }\n",
              "    80% {\n",
              "      border-color: transparent;\n",
              "      border-right-color: var(--fill-color);\n",
              "      border-bottom-color: var(--fill-color);\n",
              "    }\n",
              "    90% {\n",
              "      border-color: transparent;\n",
              "      border-bottom-color: var(--fill-color);\n",
              "    }\n",
              "  }\n",
              "</style>\n",
              "\n",
              "      <script>\n",
              "        async function quickchart(key) {\n",
              "          const quickchartButtonEl =\n",
              "            document.querySelector('#' + key + ' button');\n",
              "          quickchartButtonEl.disabled = true;  // To prevent multiple clicks.\n",
              "          quickchartButtonEl.classList.add('colab-df-spinner');\n",
              "          try {\n",
              "            const charts = await google.colab.kernel.invokeFunction(\n",
              "                'suggestCharts', [key], {});\n",
              "          } catch (error) {\n",
              "            console.error('Error during call to suggestCharts:', error);\n",
              "          }\n",
              "          quickchartButtonEl.classList.remove('colab-df-spinner');\n",
              "          quickchartButtonEl.classList.add('colab-df-quickchart-complete');\n",
              "        }\n",
              "        (() => {\n",
              "          let quickchartButtonEl =\n",
              "            document.querySelector('#df-425c0511-11f2-4791-912e-86929c47804a button');\n",
              "          quickchartButtonEl.style.display =\n",
              "            google.colab.kernel.accessAllowed ? 'block' : 'none';\n",
              "        })();\n",
              "      </script>\n",
              "    </div>\n",
              "\n",
              "    </div>\n",
              "  </div>\n"
            ],
            "application/vnd.google.colaboratory.intrinsic+json": {
              "type": "dataframe",
              "variable_name": "val_df",
              "summary": "{\n  \"name\": \"val_df\",\n  \"rows\": 100,\n  \"fields\": [\n    {\n      \"column\": \"text\",\n      \"properties\": {\n        \"dtype\": \"string\",\n        \"num_unique_values\": 100,\n        \"samples\": [\n          \"People don't seem to agree with me that movies can be bad and good at the same time. The same type of people that see a movie with Carrot Top on the cover, surfing through a frickin office and continue to watch the movie with serious expectations. Is Carrot Top funny? Of course not. Was this movie anything special? Of course not. It was a dumb movie and everyone assumed so simply based on what they know about Mr. Top. Movies like this, or Kazaam, or Killer Klowns From Outer Space and pretty much any movie Pauly Shore has ever been in are not meant to be taken seriously and because of this, they really shouldn't be considered some of the worst movies ever made. You watch them either expecting a dumb movie that's hilariously bad or you are like six years old and genuinely think Carrot Top is hilarious.<br /><br />Please people if you ready know Carrot Top is retarded and you want to watch a serious movie and bother writing a serious review....don't watch this. Picking on this movie is like picking on a 5 year old for not knowing the alphabet.\",\n          \"I as a Christian am outraged after seeing just the first half of this picture. The film's website says they researched the movie before writing but I believe they forgot to consult the ultimate source THE BIBLE. I sat with two different versions of the Bible and could not find half of what happened or was said in this picture. It was like they made up what was not in the Bible and changed what was in the Bible to what they thought modern film viewers would want to see instead of the truth. I personally am too young to remember the 1950's Ten Commandments but it can't be any worse than this. I have written to the network and can only hope they publicly apologize for this travesty.\",\n          \"I have to admit that I am disappointed after seeing this movie. I had expected so much more from the trailers. The movie was absolutely horrible. It lacked a real story line and the acting was not exactly the best. Don't waste your time. The movie is not what the trailers lead you to think it is. I would have to say that I don't usually write anything about movies on IMDb (in fact this is my first one) but this movie was such a disappointment that I registered just to let people know not to waste their time or money. The story line is that of a heist that is to happen and it looks like it had potential to be good but the things that happen in the movie are a little far fetched to be believable. Watch another movie instead, maybe the inside man???\"\n        ],\n        \"semantic_type\": \"\",\n        \"description\": \"\"\n      }\n    },\n    {\n      \"column\": \"label\",\n      \"properties\": {\n        \"dtype\": \"number\",\n        \"std\": 0,\n        \"min\": 0,\n        \"max\": 1,\n        \"num_unique_values\": 2,\n        \"samples\": [\n          1,\n          0\n        ],\n        \"semantic_type\": \"\",\n        \"description\": \"\"\n      }\n    }\n  ]\n}"
            }
          },
          "metadata": {},
          "execution_count": 19
        }
      ]
    },
    {
      "cell_type": "code",
      "execution_count": 20,
      "id": "4901bb8e-727d-4a88-9bae-f2b42ecdd283",
      "metadata": {
        "id": "4901bb8e-727d-4a88-9bae-f2b42ecdd283"
      },
      "outputs": [],
      "source": [
        "def get_sentence_len(row):\n",
        "    ''' Function to get the length of sentence based on space as delimiter\n",
        "    Not perfect function but decent for approximation\n",
        "    '''\n",
        "    sentence = row['text']\n",
        "    return len(sentence.split(' '))"
      ]
    },
    {
      "cell_type": "code",
      "execution_count": 21,
      "id": "2c470538-0ea4-40a1-8784-f14f4ba71791",
      "metadata": {
        "id": "2c470538-0ea4-40a1-8784-f14f4ba71791"
      },
      "outputs": [],
      "source": [
        "train_df['text_len'] = train_df.apply(get_sentence_len, axis=1)"
      ]
    },
    {
      "cell_type": "code",
      "execution_count": 22,
      "id": "8fea0caf-dc8e-41ef-8d2e-df9fa09e31d2",
      "metadata": {
        "id": "8fea0caf-dc8e-41ef-8d2e-df9fa09e31d2"
      },
      "outputs": [],
      "source": [
        "test_df['text_len'] = test_df.apply(get_sentence_len, axis=1)"
      ]
    },
    {
      "cell_type": "code",
      "source": [
        "val_df['text_len'] = val_df.apply(get_sentence_len, axis=1)"
      ],
      "metadata": {
        "id": "GUJqz9KGARQi"
      },
      "id": "GUJqz9KGARQi",
      "execution_count": 23,
      "outputs": []
    },
    {
      "cell_type": "code",
      "execution_count": 24,
      "id": "72b2ae77-2c05-4d64-994e-cda8c53715f9",
      "metadata": {
        "colab": {
          "base_uri": "https://localhost:8080/",
          "height": 335
        },
        "id": "72b2ae77-2c05-4d64-994e-cda8c53715f9",
        "outputId": "0ccde36d-2af2-4328-d2f7-6b80ca8f1824"
      },
      "outputs": [
        {
          "output_type": "execute_result",
          "data": {
            "text/plain": [
              "count    25000.000000\n",
              "mean       233.776720\n",
              "std        173.715418\n",
              "min         10.000000\n",
              "25%        127.000000\n",
              "50%        174.000000\n",
              "75%        284.000000\n",
              "max       2470.000000\n",
              "Name: text_len, dtype: float64"
            ],
            "text/html": [
              "<div>\n",
              "<style scoped>\n",
              "    .dataframe tbody tr th:only-of-type {\n",
              "        vertical-align: middle;\n",
              "    }\n",
              "\n",
              "    .dataframe tbody tr th {\n",
              "        vertical-align: top;\n",
              "    }\n",
              "\n",
              "    .dataframe thead th {\n",
              "        text-align: right;\n",
              "    }\n",
              "</style>\n",
              "<table border=\"1\" class=\"dataframe\">\n",
              "  <thead>\n",
              "    <tr style=\"text-align: right;\">\n",
              "      <th></th>\n",
              "      <th>text_len</th>\n",
              "    </tr>\n",
              "  </thead>\n",
              "  <tbody>\n",
              "    <tr>\n",
              "      <th>count</th>\n",
              "      <td>25000.000000</td>\n",
              "    </tr>\n",
              "    <tr>\n",
              "      <th>mean</th>\n",
              "      <td>233.776720</td>\n",
              "    </tr>\n",
              "    <tr>\n",
              "      <th>std</th>\n",
              "      <td>173.715418</td>\n",
              "    </tr>\n",
              "    <tr>\n",
              "      <th>min</th>\n",
              "      <td>10.000000</td>\n",
              "    </tr>\n",
              "    <tr>\n",
              "      <th>25%</th>\n",
              "      <td>127.000000</td>\n",
              "    </tr>\n",
              "    <tr>\n",
              "      <th>50%</th>\n",
              "      <td>174.000000</td>\n",
              "    </tr>\n",
              "    <tr>\n",
              "      <th>75%</th>\n",
              "      <td>284.000000</td>\n",
              "    </tr>\n",
              "    <tr>\n",
              "      <th>max</th>\n",
              "      <td>2470.000000</td>\n",
              "    </tr>\n",
              "  </tbody>\n",
              "</table>\n",
              "</div><br><label><b>dtype:</b> float64</label>"
            ]
          },
          "metadata": {},
          "execution_count": 24
        }
      ],
      "source": [
        "train_df.text_len.describe()"
      ]
    },
    {
      "cell_type": "code",
      "execution_count": 25,
      "id": "fac02bd4-f14b-4354-b5b2-b94e7e3c2142",
      "metadata": {
        "colab": {
          "base_uri": "https://localhost:8080/",
          "height": 335
        },
        "id": "fac02bd4-f14b-4354-b5b2-b94e7e3c2142",
        "outputId": "c35064a5-eab7-4a9e-e3f4-9166b52eab9d"
      },
      "outputs": [
        {
          "output_type": "execute_result",
          "data": {
            "text/plain": [
              "count    2500.000000\n",
              "mean      231.060000\n",
              "std       166.980655\n",
              "min         8.000000\n",
              "25%       127.000000\n",
              "50%       175.000000\n",
              "75%       286.000000\n",
              "max      1167.000000\n",
              "Name: text_len, dtype: float64"
            ],
            "text/html": [
              "<div>\n",
              "<style scoped>\n",
              "    .dataframe tbody tr th:only-of-type {\n",
              "        vertical-align: middle;\n",
              "    }\n",
              "\n",
              "    .dataframe tbody tr th {\n",
              "        vertical-align: top;\n",
              "    }\n",
              "\n",
              "    .dataframe thead th {\n",
              "        text-align: right;\n",
              "    }\n",
              "</style>\n",
              "<table border=\"1\" class=\"dataframe\">\n",
              "  <thead>\n",
              "    <tr style=\"text-align: right;\">\n",
              "      <th></th>\n",
              "      <th>text_len</th>\n",
              "    </tr>\n",
              "  </thead>\n",
              "  <tbody>\n",
              "    <tr>\n",
              "      <th>count</th>\n",
              "      <td>2500.000000</td>\n",
              "    </tr>\n",
              "    <tr>\n",
              "      <th>mean</th>\n",
              "      <td>231.060000</td>\n",
              "    </tr>\n",
              "    <tr>\n",
              "      <th>std</th>\n",
              "      <td>166.980655</td>\n",
              "    </tr>\n",
              "    <tr>\n",
              "      <th>min</th>\n",
              "      <td>8.000000</td>\n",
              "    </tr>\n",
              "    <tr>\n",
              "      <th>25%</th>\n",
              "      <td>127.000000</td>\n",
              "    </tr>\n",
              "    <tr>\n",
              "      <th>50%</th>\n",
              "      <td>175.000000</td>\n",
              "    </tr>\n",
              "    <tr>\n",
              "      <th>75%</th>\n",
              "      <td>286.000000</td>\n",
              "    </tr>\n",
              "    <tr>\n",
              "      <th>max</th>\n",
              "      <td>1167.000000</td>\n",
              "    </tr>\n",
              "  </tbody>\n",
              "</table>\n",
              "</div><br><label><b>dtype:</b> float64</label>"
            ]
          },
          "metadata": {},
          "execution_count": 25
        }
      ],
      "source": [
        "test_df.text_len.describe()"
      ]
    },
    {
      "cell_type": "markdown",
      "id": "376b86cb-f575-4cf7-975d-e7a88a4ca952",
      "metadata": {
        "id": "376b86cb-f575-4cf7-975d-e7a88a4ca952"
      },
      "source": [
        "### Data preprocessing"
      ]
    },
    {
      "cell_type": "code",
      "execution_count": 26,
      "id": "a7860ad9-d5cc-4182-b075-0cf8fb0f6914",
      "metadata": {
        "colab": {
          "base_uri": "https://localhost:8080/"
        },
        "id": "a7860ad9-d5cc-4182-b075-0cf8fb0f6914",
        "outputId": "52475d08-78dd-4e97-c45f-7650e0d0b7c5"
      },
      "outputs": [
        {
          "output_type": "stream",
          "name": "stdout",
          "text": [
            "Using model distilbert-base-uncased\n"
          ]
        }
      ],
      "source": [
        "tokenizer_obj = get_tokenizer()"
      ]
    },
    {
      "cell_type": "code",
      "execution_count": 27,
      "id": "67ab01f1-5f67-473c-82bd-7c97754e5b79",
      "metadata": {
        "id": "67ab01f1-5f67-473c-82bd-7c97754e5b79"
      },
      "outputs": [],
      "source": [
        "# Initialize pytorch datasets\n",
        "train_dataset = get_datasets(train_df['text'].to_list(), train_df['label'].to_list(), tokenizer_obj, max_length=512)\n",
        "test_dataset = get_datasets(test_df['text'].to_list(), test_df['label'].to_list(), tokenizer_obj, max_length=512)\n",
        "val_dataset = get_datasets(val_df['text'].to_list(), val_df['label'].to_list(), tokenizer_obj, max_length=512)"
      ]
    },
    {
      "cell_type": "code",
      "execution_count": 28,
      "id": "73f0b5e7-ee40-42c5-bf8d-454f59b87f3f",
      "metadata": {
        "id": "73f0b5e7-ee40-42c5-bf8d-454f59b87f3f"
      },
      "outputs": [],
      "source": [
        "# Initialize pytorch dataloaders\n",
        "train_dataloader = get_dataloaders(train_dataset, batch_size=8, shuffle=True)\n",
        "test_dataloader = get_dataloaders(test_dataset, batch_size=8, shuffle=True)\n",
        "val_dataloader = get_dataloaders(val_dataset, batch_size=8, shuffle=True)"
      ]
    },
    {
      "cell_type": "code",
      "execution_count": 29,
      "id": "adee6ca8-ef6f-416e-a0ae-6b57b42285cd",
      "metadata": {
        "colab": {
          "base_uri": "https://localhost:8080/"
        },
        "id": "adee6ca8-ef6f-416e-a0ae-6b57b42285cd",
        "outputId": "23491a7c-6f05-47c7-bc81-f4ed872138df"
      },
      "outputs": [
        {
          "output_type": "stream",
          "name": "stdout",
          "text": [
            "torch.Size([8, 512]) torch.Size([8, 512]) torch.Size([8])\n"
          ]
        }
      ],
      "source": [
        "# check dataloader\n",
        "data_iter = iter(train_dataloader)\n",
        "sample = next(data_iter)\n",
        "print(sample['input_ids'].shape, sample['attention_mask'].shape, sample['label'].shape)"
      ]
    },
    {
      "cell_type": "code",
      "source": [
        "len(train_dataloader), len(test_dataloader), len(val_dataloader)"
      ],
      "metadata": {
        "id": "iMXqbo7v4tuo",
        "outputId": "3554f583-a271-4b97-c989-82d7135a0301",
        "colab": {
          "base_uri": "https://localhost:8080/"
        }
      },
      "id": "iMXqbo7v4tuo",
      "execution_count": 30,
      "outputs": [
        {
          "output_type": "execute_result",
          "data": {
            "text/plain": [
              "(3125, 313, 13)"
            ]
          },
          "metadata": {},
          "execution_count": 30
        }
      ]
    },
    {
      "cell_type": "code",
      "execution_count": 31,
      "id": "84fa74d1-329f-4f52-b2f3-dc9e6c528ddd",
      "metadata": {
        "colab": {
          "base_uri": "https://localhost:8080/"
        },
        "id": "84fa74d1-329f-4f52-b2f3-dc9e6c528ddd",
        "outputId": "db6f065e-4a23-4797-a935-49a673a27b56"
      },
      "outputs": [
        {
          "output_type": "execute_result",
          "data": {
            "text/plain": [
              "{'input_ids': tensor([[  101,  2304,  4215,  ...,     0,     0,     0],\n",
              "         [  101,  2034,  2009,  ...,     0,     0,     0],\n",
              "         [  101,  1037,  2177,  ...,     0,     0,     0],\n",
              "         ...,\n",
              "         [  101,  1000,  1996,  ...,     0,     0,     0],\n",
              "         [  101, 19522,  1006,  ...,     0,     0,     0],\n",
              "         [  101,  2022,  7420,  ...,     0,     0,     0]]),\n",
              " 'attention_mask': tensor([[1, 1, 1,  ..., 0, 0, 0],\n",
              "         [1, 1, 1,  ..., 0, 0, 0],\n",
              "         [1, 1, 1,  ..., 0, 0, 0],\n",
              "         ...,\n",
              "         [1, 1, 1,  ..., 0, 0, 0],\n",
              "         [1, 1, 1,  ..., 0, 0, 0],\n",
              "         [1, 1, 1,  ..., 0, 0, 0]]),\n",
              " 'num_tokens': tensor([167,  62, 182, 470, 510, 156, 137, 136]),\n",
              " 'label': tensor([1, 1, 0, 1, 1, 1, 1, 0])}"
            ]
          },
          "metadata": {},
          "execution_count": 31
        }
      ],
      "source": [
        "sample"
      ]
    },
    {
      "cell_type": "markdown",
      "id": "3a37b6b9-1e3a-448d-b0a6-63269ae7b3ba",
      "metadata": {
        "id": "3a37b6b9-1e3a-448d-b0a6-63269ae7b3ba"
      },
      "source": [
        "### Initialize Hyperparameters"
      ]
    },
    {
      "cell_type": "code",
      "execution_count": 32,
      "id": "8e68a43e-863b-47b0-86a1-08d5771c8576",
      "metadata": {
        "id": "8e68a43e-863b-47b0-86a1-08d5771c8576"
      },
      "outputs": [],
      "source": [
        "learning_rate = 1e-5\n",
        "momentum = 0.9\n",
        "num_epochs = 2\n",
        "batch_size = 8"
      ]
    },
    {
      "cell_type": "code",
      "execution_count": 33,
      "id": "cdd05873-84da-4863-a585-982e639ba746",
      "metadata": {
        "colab": {
          "base_uri": "https://localhost:8080/"
        },
        "id": "cdd05873-84da-4863-a585-982e639ba746",
        "outputId": "2bdf95b6-b52a-43fd-aac3-05acb2fddc70"
      },
      "outputs": [
        {
          "output_type": "stream",
          "name": "stdout",
          "text": [
            "Total number of training steps in each epoch: 3125\n"
          ]
        }
      ],
      "source": [
        "num_total_steps = len(train_dataloader)\n",
        "print(f'Total number of training steps in each epoch: {num_total_steps}')"
      ]
    },
    {
      "cell_type": "markdown",
      "id": "8a0246c0-a9a1-4a0f-a5e9-f9114fa89b92",
      "metadata": {
        "id": "8a0246c0-a9a1-4a0f-a5e9-f9114fa89b92"
      },
      "source": [
        "### Training code"
      ]
    },
    {
      "cell_type": "code",
      "execution_count": 34,
      "id": "c76972da-777a-4b1a-89a8-7f02d1050494",
      "metadata": {
        "id": "c76972da-777a-4b1a-89a8-7f02d1050494"
      },
      "outputs": [],
      "source": [
        "class CustomLoss(nn.Module):\n",
        "    def __init__(self, parameter=None):\n",
        "        super().__init__()\n",
        "        self.parameter = parameter\n",
        "\n",
        "    def forward(self, pred_logits, target, num_tokens):\n",
        "        loss_fn = nn.BCEWithLogitsLoss()\n",
        "        pred_logits = pred_logits.view(-1)\n",
        "        target = target.float()\n",
        "        loss = loss_fn(pred_logits, target)\n",
        "\n",
        "        # Simple Custom loss logic\n",
        "        # Intuition behind is Longer the length of the review(in terms of words/tokens) more information is given by the reviewer\n",
        "        # Also from the data analysis before, on average a review will have 225+ tokens\n",
        "        # This loss function penalizes wrong predictions on longer reviews\n",
        "\n",
        "        if self.parameter is not None:\n",
        "            loss += torch.sum(self.parameter * (num_tokens)/512)\n",
        "        return loss\n",
        "\n",
        "custom_loss = CustomLoss(parameter=0.01)"
      ]
    },
    {
      "cell_type": "code",
      "source": [
        "def train(data_loader, num_epochs, custom_loss_fn=None):\n",
        "    model = get_pretrained_model(num_labels=1)\n",
        "    model.to(device)\n",
        "    optimizer = torch.optim.AdamW(model.parameters(), lr=learning_rate)\n",
        "\n",
        "    if custom_loss_fn:\n",
        "        print(\"Using Custom loss function\")\n",
        "    else:\n",
        "        print(\"Using default loss from Distilbert\")\n",
        "\n",
        "    for epoch in range(num_epochs):\n",
        "      model.train()\n",
        "      train_loss = 0\n",
        "      for step_num, input_encoding in enumerate(data_loader):\n",
        "          input_ids = input_encoding['input_ids']\n",
        "          attention_masks = input_encoding['attention_mask']\n",
        "          labels = input_encoding['label']\n",
        "          num_tokens = input_encoding['num_tokens']\n",
        "\n",
        "          input_ids = input_ids.to(device)\n",
        "          attention_masks = attention_masks.to(device)\n",
        "          labels = labels.to(device)\n",
        "          num_tokens = num_tokens.to(device)\n",
        "\n",
        "          preds = model(input_ids, attention_mask=attention_masks, labels=labels.float())\n",
        "\n",
        "          if custom_loss_fn is not None:\n",
        "              loss = custom_loss_fn(preds.logits, labels, num_tokens)\n",
        "          else:\n",
        "              loss = preds.loss\n",
        "\n",
        "          train_loss += loss.item()\n",
        "          optimizer.zero_grad()\n",
        "          loss.backward()\n",
        "          optimizer.step()\n",
        "\n",
        "          if (step_num+1)%500 == 0:\n",
        "              print(f\"Epoch: {epoch+1}/{num_epochs}, Step: {step_num+1}/{num_total_steps}, Training Loss so far: {train_loss/((step_num+1)*batch_size)}\")\n",
        "\n",
        "      print(f\"Epoch: {epoch+1}/{num_epochs},Total Training Loss: {train_loss/(len(train_dataset))}\")\n",
        "\n",
        "      # Calculate Validation at the end of every epoch\n",
        "      model.eval()\n",
        "      val_loss = 0\n",
        "      with torch.no_grad():\n",
        "          for step_num, input_encoding in enumerate(val_dataloader):\n",
        "              input_ids = input_encoding['input_ids']\n",
        "              attention_masks = input_encoding['attention_mask']\n",
        "              labels = input_encoding['label']\n",
        "              num_tokens = input_encoding['num_tokens']\n",
        "\n",
        "              input_ids = input_ids.to(device)\n",
        "              attention_masks = attention_masks.to(device)\n",
        "              labels = labels.to(device)\n",
        "              num_tokens = num_tokens.to(device)\n",
        "\n",
        "              preds = model(input_ids, attention_mask=attention_masks, labels=labels.float())\n",
        "\n",
        "              if custom_loss_fn is not None:\n",
        "                  val_loss += custom_loss_fn(preds.logits, labels, num_tokens)\n",
        "              else:\n",
        "                  val_loss += preds.loss\n",
        "\n",
        "          print(f\"Epoch: {epoch+1}/{num_epochs}, Total Validation Loss: {val_loss.item()/len(val_dataset)}\")\n",
        "\n",
        "    return model\n",
        "\n",
        "\n",
        "def evaluate(model, data_loader):\n",
        "    model.eval()\n",
        "    acc = 0\n",
        "    with torch.no_grad():\n",
        "        for step_num, input_encoding in enumerate(test_dataloader):\n",
        "            input_ids = input_encoding['input_ids']\n",
        "            attention_masks = input_encoding['attention_mask']\n",
        "            labels = input_encoding['label']\n",
        "            num_tokens = input_encoding['num_tokens']\n",
        "\n",
        "            input_ids = input_ids.to(device)\n",
        "            attention_masks = attention_masks.to(device)\n",
        "            labels = labels.to(device)\n",
        "            num_tokens = num_tokens.to(device)\n",
        "\n",
        "            outputs = model(input_ids, attention_mask=attention_masks, labels=labels)\n",
        "            preds = torch.argmax(outputs.logits, dim=1)\n",
        "\n",
        "            acc += (labels == preds).sum().item()\n",
        "\n",
        "    print(f\"Accuracy: {acc/len(test_dataset)}\")\n",
        ""
      ],
      "metadata": {
        "id": "XnQLPnvt5B0j"
      },
      "id": "XnQLPnvt5B0j",
      "execution_count": 35,
      "outputs": []
    },
    {
      "cell_type": "code",
      "execution_count": 36,
      "id": "9b41461f-7086-43b2-88d0-3a9aa62f9d23",
      "metadata": {
        "colab": {
          "base_uri": "https://localhost:8080/"
        },
        "id": "9b41461f-7086-43b2-88d0-3a9aa62f9d23",
        "outputId": "67781188-f96e-4ec4-ce7e-e9b13e6bfc1f"
      },
      "outputs": [
        {
          "output_type": "stream",
          "name": "stdout",
          "text": [
            "Using model distilbert-base-uncased\n"
          ]
        },
        {
          "output_type": "stream",
          "name": "stderr",
          "text": [
            "Some weights of DistilBertForSequenceClassification were not initialized from the model checkpoint at distilbert-base-uncased and are newly initialized: ['classifier.bias', 'classifier.weight', 'pre_classifier.bias', 'pre_classifier.weight']\n",
            "You should probably TRAIN this model on a down-stream task to be able to use it for predictions and inference.\n"
          ]
        },
        {
          "output_type": "stream",
          "name": "stdout",
          "text": [
            "Using default loss from Distilbert\n",
            "Epoch: 1/2, Step: 500/3125, Training Loss so far: 0.01618453865277115\n",
            "Epoch: 1/2, Step: 1000/3125, Training Loss so far: 0.013165959330712212\n",
            "Epoch: 1/2, Step: 1500/3125, Training Loss so far: 0.011716782977309777\n",
            "Epoch: 1/2, Step: 2000/3125, Training Loss so far: 0.011008835651598929\n",
            "Epoch: 1/2, Step: 2500/3125, Training Loss so far: 0.010475481856794795\n",
            "Epoch: 1/2, Step: 3000/3125, Training Loss so far: 0.010137087587851663\n",
            "Epoch: 1/2,Total Training Loss: 0.01007238722306909\n",
            "Epoch: 1/2, Total Validation Loss: 0.0047422066330909726\n",
            "Epoch: 2/2, Step: 500/3125, Training Loss so far: 0.006032561307125434\n",
            "Epoch: 2/2, Step: 1000/3125, Training Loss so far: 0.005886572257662919\n",
            "Epoch: 2/2, Step: 1500/3125, Training Loss so far: 0.005764175744264018\n",
            "Epoch: 2/2, Step: 2000/3125, Training Loss so far: 0.005684829934060872\n",
            "Epoch: 2/2, Step: 2500/3125, Training Loss so far: 0.005770949694255978\n",
            "Epoch: 2/2, Step: 3000/3125, Training Loss so far: 0.005732531572267059\n",
            "Epoch: 2/2,Total Training Loss: 0.0056917906679247975\n",
            "Epoch: 2/2, Total Validation Loss: 0.006221238970756531\n",
            "Accuracy: 0.5124\n"
          ]
        }
      ],
      "source": [
        "# Main driver for training the model\n",
        "\n",
        "# Default loss by Distilbert\n",
        "model = train(train_dataloader, num_epochs)\n",
        "evaluate(model, test_dataloader)"
      ]
    },
    {
      "cell_type": "code",
      "source": [
        "# Using custom loss\n",
        "model = train(train_dataloader, num_epochs, custom_loss)\n",
        "evaluate(model, test_dataloader)"
      ],
      "metadata": {
        "id": "E0_7Ig3I-il-",
        "outputId": "c17bac1d-cacc-49a9-f5cc-1ef89fe20329",
        "colab": {
          "base_uri": "https://localhost:8080/"
        }
      },
      "id": "E0_7Ig3I-il-",
      "execution_count": 37,
      "outputs": [
        {
          "output_type": "stream",
          "name": "stdout",
          "text": [
            "Using model distilbert-base-uncased\n"
          ]
        },
        {
          "output_type": "stream",
          "name": "stderr",
          "text": [
            "Some weights of DistilBertForSequenceClassification were not initialized from the model checkpoint at distilbert-base-uncased and are newly initialized: ['classifier.bias', 'classifier.weight', 'pre_classifier.bias', 'pre_classifier.weight']\n",
            "You should probably TRAIN this model on a down-stream task to be able to use it for predictions and inference.\n"
          ]
        },
        {
          "output_type": "stream",
          "name": "stdout",
          "text": [
            "Using Custom loss function\n",
            "Epoch: 1/2, Step: 500/3125, Training Loss so far: 0.0527622605022043\n",
            "Epoch: 1/2, Step: 1000/3125, Training Loss so far: 0.044707871700637045\n",
            "Epoch: 1/2, Step: 1500/3125, Training Loss so far: 0.04153955115781476\n",
            "Epoch: 1/2, Step: 2000/3125, Training Loss so far: 0.03986409278702922\n",
            "Epoch: 1/2, Step: 2500/3125, Training Loss so far: 0.0385454803770408\n",
            "Epoch: 1/2, Step: 3000/3125, Training Loss so far: 0.03760046991131579\n",
            "Epoch: 1/2,Total Training Loss: 0.03725962341696024\n",
            "Epoch: 1/2, Total Validation Loss: 0.0225205397605896\n",
            "Epoch: 2/2, Step: 500/3125, Training Loss so far: 0.02427990456856787\n",
            "Epoch: 2/2, Step: 1000/3125, Training Loss so far: 0.024623101046308875\n",
            "Epoch: 2/2, Step: 1500/3125, Training Loss so far: 0.024518101801164448\n",
            "Epoch: 2/2, Step: 2000/3125, Training Loss so far: 0.02372416638210416\n",
            "Epoch: 2/2, Step: 2500/3125, Training Loss so far: 0.02390312594641\n",
            "Epoch: 2/2, Step: 3000/3125, Training Loss so far: 0.024065256814161936\n",
            "Epoch: 2/2,Total Training Loss: 0.023996672308892013\n",
            "Epoch: 2/2, Total Validation Loss: 0.02748483419418335\n",
            "Accuracy: 0.5124\n"
          ]
        }
      ]
    },
    {
      "cell_type": "code",
      "source": [],
      "metadata": {
        "id": "NZz0W6jM6hZO"
      },
      "id": "NZz0W6jM6hZO",
      "execution_count": null,
      "outputs": []
    },
    {
      "cell_type": "markdown",
      "id": "7dd67c69-778e-4e6e-9b00-27ec5bf8b781",
      "metadata": {
        "id": "7dd67c69-778e-4e6e-9b00-27ec5bf8b781"
      },
      "source": [
        "### Evaluation code"
      ]
    },
    {
      "cell_type": "code",
      "execution_count": null,
      "id": "5c2960f0-e6f4-4f19-bd15-42c06030fbad",
      "metadata": {
        "id": "5c2960f0-e6f4-4f19-bd15-42c06030fbad"
      },
      "outputs": [],
      "source": []
    },
    {
      "cell_type": "code",
      "execution_count": null,
      "id": "1309defb-e1a8-44c5-b61c-23a8baa21e27",
      "metadata": {
        "id": "1309defb-e1a8-44c5-b61c-23a8baa21e27"
      },
      "outputs": [],
      "source": []
    }
  ],
  "metadata": {
    "kernelspec": {
      "display_name": "Python 3",
      "name": "python3"
    },
    "language_info": {
      "codemirror_mode": {
        "name": "ipython",
        "version": 3
      },
      "file_extension": ".py",
      "mimetype": "text/x-python",
      "name": "python",
      "nbconvert_exporter": "python",
      "pygments_lexer": "ipython3",
      "version": "3.13.2"
    },
    "colab": {
      "provenance": [],
      "gpuType": "T4"
    },
    "accelerator": "GPU"
  },
  "nbformat": 4,
  "nbformat_minor": 5
}